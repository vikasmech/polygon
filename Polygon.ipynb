{
 "cells": [
  {
   "cell_type": "code",
   "execution_count": 1,
   "id": "6fe630bc",
   "metadata": {},
   "outputs": [
    {
     "name": "stdout",
     "output_type": "stream",
     "text": [
      "LICENSE               README.md             test_polygon.py\r\n",
      "Polygon.ipynb         \u001b[34m__pycache__\u001b[m\u001b[m/\r\n",
      "Polygons_sequence.py  polygon.py\r\n"
     ]
    }
   ],
   "source": [
    "ls"
   ]
  },
  {
   "cell_type": "code",
   "execution_count": 2,
   "id": "99665cef",
   "metadata": {},
   "outputs": [
    {
     "name": "stdout",
     "output_type": "stream",
     "text": [
      "18.0\n",
      "Polygon(n=5, R=3)\n",
      "False\n"
     ]
    }
   ],
   "source": [
    "import polygon\n",
    "import Polygons_sequence"
   ]
  },
  {
   "cell_type": "code",
   "execution_count": 4,
   "id": "80535360",
   "metadata": {},
   "outputs": [],
   "source": [
    "p = polygon.Polygon(5,1)"
   ]
  },
  {
   "cell_type": "code",
   "execution_count": null,
   "id": "bcd7ee6b",
   "metadata": {},
   "outputs": [],
   "source": []
  }
 ],
 "metadata": {
  "kernelspec": {
   "display_name": "Python 3 (ipykernel)",
   "language": "python",
   "name": "python3"
  },
  "language_info": {
   "codemirror_mode": {
    "name": "ipython",
    "version": 3
   },
   "file_extension": ".py",
   "mimetype": "text/x-python",
   "name": "python",
   "nbconvert_exporter": "python",
   "pygments_lexer": "ipython3",
   "version": "3.9.1"
  }
 },
 "nbformat": 4,
 "nbformat_minor": 5
}
