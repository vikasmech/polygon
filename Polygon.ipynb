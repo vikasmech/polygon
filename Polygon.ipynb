{
 "cells": [
  {
   "cell_type": "code",
   "execution_count": 1,
   "id": "a4007049",
   "metadata": {},
   "outputs": [
    {
     "name": "stdout",
     "output_type": "stream",
     "text": [
      "LICENSE               README.md             test_polygon.py\r\n",
      "Polygon.ipynb         \u001b[34m__pycache__\u001b[m\u001b[m/\r\n",
      "Polygons_sequence.py  polygon.py\r\n"
     ]
    }
   ],
   "source": [
    "ls"
   ]
  },
  {
   "cell_type": "code",
   "execution_count": 2,
   "id": "e1fb64ac",
   "metadata": {},
   "outputs": [
    {
     "name": "stdout",
     "output_type": "stream",
     "text": [
      "18.0\n",
      "Polygon(n=5, R=3)\n",
      "False\n"
     ]
    }
   ],
   "source": [
    "import polygon\n",
    "import Polygons_sequence"
   ]
  },
  {
   "cell_type": "code",
   "execution_count": 4,
   "id": "8b38faab",
   "metadata": {},
   "outputs": [],
   "source": [
    "p = polygon.Polygon(5,1)"
   ]
  },
  {
   "cell_type": "code",
   "execution_count": 5,
   "id": "978f92c2",
   "metadata": {},
   "outputs": [
    {
     "data": {
      "text/plain": [
       "2.377641290737884"
      ]
     },
     "execution_count": 5,
     "metadata": {},
     "output_type": "execute_result"
    }
   ],
   "source": [
    "p.area"
   ]
  },
  {
   "cell_type": "code",
   "execution_count": 7,
   "id": "a5006dd7",
   "metadata": {},
   "outputs": [],
   "source": [
    "name = ['apothem','area','circumradius','count_edges','count_vertices','interior_angle','n','perimeter','r','side_length']"
   ]
  },
  {
   "cell_type": "code",
   "execution_count": 21,
   "id": "7ce5b295",
   "metadata": {},
   "outputs": [
    {
     "name": "stdout",
     "output_type": "stream",
     "text": [
      "for this polygon apothem =  0.8090169943749475\n",
      "for this polygon area =  2.377641290737884\n",
      "for this polygon circumradius =  1\n",
      "for this polygon count_edges =  5\n",
      "for this polygon count_vertices =  5\n",
      "for this polygon interior_angle =  108.0\n",
      "for this polygon n =  5\n",
      "for this polygon perimeter =  5.877852522924732\n",
      "for this polygon r =  1\n",
      "for this polygon side_length =  1.1755705045849463\n"
     ]
    }
   ],
   "source": [
    "for item in name:\n",
    "    print(f\"for this polygon {item} = \",eval(f\"p.{item}\"))"
   ]
  },
  {
   "cell_type": "code",
   "execution_count": 13,
   "id": "cc0eef31",
   "metadata": {},
   "outputs": [
    {
     "name": "stdout",
     "output_type": "stream",
     "text": [
      "n: 5, r: 1\n"
     ]
    }
   ],
   "source": []
  },
  {
   "cell_type": "code",
   "execution_count": 14,
   "id": "fabb4eff",
   "metadata": {},
   "outputs": [
    {
     "data": {
      "text/plain": [
       "{'n': 5, 'r': 1}"
      ]
     },
     "execution_count": 14,
     "metadata": {},
     "output_type": "execute_result"
    }
   ],
   "source": [
    "p.__dict__"
   ]
  },
  {
   "cell_type": "code",
   "execution_count": null,
   "id": "e50308c4",
   "metadata": {},
   "outputs": [],
   "source": []
  }
 ],
 "metadata": {
  "kernelspec": {
   "display_name": "Python 3 (ipykernel)",
   "language": "python",
   "name": "python3"
  },
  "language_info": {
   "codemirror_mode": {
    "name": "ipython",
    "version": 3
   },
   "file_extension": ".py",
   "mimetype": "text/x-python",
   "name": "python",
   "nbconvert_exporter": "python",
   "pygments_lexer": "ipython3",
   "version": "3.9.1"
  }
 },
 "nbformat": 4,
 "nbformat_minor": 5
}
